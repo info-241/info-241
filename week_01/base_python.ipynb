{
 "cells": [
  {
   "cell_type": "markdown",
   "id": "b07ab650-9b43-47be-b14c-30b00cef8dbf",
   "metadata": {},
   "source": [
    "# Basic Python Indexing"
   ]
  },
  {
   "cell_type": "code",
   "execution_count": 1,
   "id": "e6b15cb2-e127-4d92-9640-742d9f162dec",
   "metadata": {},
   "outputs": [],
   "source": [
    "# ! pip3 install scipy\n",
    "# ! pip3 install seaborn\n",
    "# ! pip3 install statsmodels"
   ]
  },
  {
   "cell_type": "code",
   "execution_count": 2,
   "id": "78323b70-f690-4062-a5e0-75bbeba5c104",
   "metadata": {},
   "outputs": [],
   "source": [
    "import numpy as np\n",
    "import pandas as pd \n",
    "from string import ascii_lowercase\n",
    "from scipy.stats import ttest_ind\n",
    "import seaborn as sns \n",
    "import statsmodels.formula.api as smf"
   ]
  },
  {
   "cell_type": "markdown",
   "id": "1828775b-3870-46d4-8fa1-3054065e23fa",
   "metadata": {},
   "source": [
    "## Slicing \n",
    "\n",
    "For almost any of the data science work that we might want to do, we will want to store data objects in either `numpy` arrays and matrices, or `pandas` dataFrames. Why? Well, so that we can use them easily! \n",
    "\n",
    "To store data as a vector, we can use the numpy `array` object type using the following call`np.array`. \n",
    "\n",
    "Suppose a vector of the following form:"
   ]
  },
  {
   "cell_type": "code",
   "execution_count": 3,
   "id": "68ac417a-36a9-4870-8262-b672f9b21e58",
   "metadata": {},
   "outputs": [],
   "source": [
    "v = np.array([1,2,3,4,6])"
   ]
  },
  {
   "cell_type": "code",
   "execution_count": 4,
   "id": "9d9a8e4d-653e-4dce-957c-1e2707c88758",
   "metadata": {},
   "outputs": [
    {
     "data": {
      "text/plain": [
       "4"
      ]
     },
     "execution_count": 4,
     "metadata": {},
     "output_type": "execute_result"
    }
   ],
   "source": [
    "v[-2]"
   ]
  },
  {
   "cell_type": "markdown",
   "id": "afee4c3d-7f40-4e13-bead-6bbccfe524ca",
   "metadata": {},
   "source": [
    "If a vector is one-dimensional, then we can either:\n",
    "\n",
    "- Reference a location in that vector:\n",
    "  - `v[2]` Will print the value in the third position\n",
    "  - `v[5]` Will print the value in the sixth position\n",
    "  - `v[[2,5]]`  Will print the value in the third and sixth positions\n",
    "  - `v[-1]`  Will print the first value, starting from the end of the vector. (Why does python choose in 0 index, but not keep this consistent when backward indexing? Who knows!) \n",
    "  - `v == 2` Tests for each value in that vector taking a particular tested, in this case, 2. \n",
    "\n",
    "And so, \n",
    "\n",
    "- `v[v == 2]` Will print only the values that meet the test.\n",
    "- `v[v == 5]` Will not print anything (while `v[v == 6]` will return `6`).\n",
    "- `v[(v>=1) & (v<=3)]` will find values within a range."
   ]
  },
  {
   "cell_type": "markdown",
   "id": "c7a79722-e86a-4de2-a063-00c7bf2de13c",
   "metadata": {},
   "source": [
    "Pandas `dataFrames` are just collections of vectors.\n",
    "\n",
    "If vectors are single dimensional objects that can be indexed, then a `dataFrame` is just a collection of vectors that can also be indexed. Importantly, once we have more than one vector collected, we've got more than a single dimension that we have to index. This is *ok*, because we can just index in both of these directions. \n",
    "\n",
    "Note as well that one of the features that we appreciate about these data.frames is that they can collect vectors that are of different types in a way that a matrix cannot. "
   ]
  },
  {
   "cell_type": "code",
   "execution_count": 5,
   "id": "9e60451b-21de-4fc2-84ab-5fabd592432d",
   "metadata": {},
   "outputs": [
    {
     "data": {
      "text/html": [
       "<div>\n",
       "<style scoped>\n",
       "    .dataframe tbody tr th:only-of-type {\n",
       "        vertical-align: middle;\n",
       "    }\n",
       "\n",
       "    .dataframe tbody tr th {\n",
       "        vertical-align: top;\n",
       "    }\n",
       "\n",
       "    .dataframe thead th {\n",
       "        text-align: right;\n",
       "    }\n",
       "</style>\n",
       "<table border=\"1\" class=\"dataframe\">\n",
       "  <thead>\n",
       "    <tr style=\"text-align: right;\">\n",
       "      <th></th>\n",
       "      <th>id</th>\n",
       "      <th>value</th>\n",
       "      <th>type</th>\n",
       "    </tr>\n",
       "  </thead>\n",
       "  <tbody>\n",
       "    <tr>\n",
       "      <th>0</th>\n",
       "      <td>0</td>\n",
       "      <td>0</td>\n",
       "      <td>A</td>\n",
       "    </tr>\n",
       "    <tr>\n",
       "      <th>1</th>\n",
       "      <td>1</td>\n",
       "      <td>1</td>\n",
       "      <td>A</td>\n",
       "    </tr>\n",
       "    <tr>\n",
       "      <th>2</th>\n",
       "      <td>2</td>\n",
       "      <td>4</td>\n",
       "      <td>A</td>\n",
       "    </tr>\n",
       "    <tr>\n",
       "      <th>3</th>\n",
       "      <td>3</td>\n",
       "      <td>9</td>\n",
       "      <td>A</td>\n",
       "    </tr>\n",
       "    <tr>\n",
       "      <th>4</th>\n",
       "      <td>4</td>\n",
       "      <td>16</td>\n",
       "      <td>B</td>\n",
       "    </tr>\n",
       "    <tr>\n",
       "      <th>5</th>\n",
       "      <td>5</td>\n",
       "      <td>25</td>\n",
       "      <td>B</td>\n",
       "    </tr>\n",
       "    <tr>\n",
       "      <th>6</th>\n",
       "      <td>6</td>\n",
       "      <td>36</td>\n",
       "      <td>B</td>\n",
       "    </tr>\n",
       "    <tr>\n",
       "      <th>7</th>\n",
       "      <td>7</td>\n",
       "      <td>49</td>\n",
       "      <td>B</td>\n",
       "    </tr>\n",
       "    <tr>\n",
       "      <th>8</th>\n",
       "      <td>8</td>\n",
       "      <td>64</td>\n",
       "      <td>C</td>\n",
       "    </tr>\n",
       "    <tr>\n",
       "      <th>9</th>\n",
       "      <td>9</td>\n",
       "      <td>81</td>\n",
       "      <td>C</td>\n",
       "    </tr>\n",
       "    <tr>\n",
       "      <th>10</th>\n",
       "      <td>10</td>\n",
       "      <td>100</td>\n",
       "      <td>C</td>\n",
       "    </tr>\n",
       "    <tr>\n",
       "      <th>11</th>\n",
       "      <td>11</td>\n",
       "      <td>121</td>\n",
       "      <td>C</td>\n",
       "    </tr>\n",
       "    <tr>\n",
       "      <th>12</th>\n",
       "      <td>12</td>\n",
       "      <td>144</td>\n",
       "      <td>D</td>\n",
       "    </tr>\n",
       "    <tr>\n",
       "      <th>13</th>\n",
       "      <td>13</td>\n",
       "      <td>169</td>\n",
       "      <td>D</td>\n",
       "    </tr>\n",
       "    <tr>\n",
       "      <th>14</th>\n",
       "      <td>14</td>\n",
       "      <td>196</td>\n",
       "      <td>D</td>\n",
       "    </tr>\n",
       "    <tr>\n",
       "      <th>15</th>\n",
       "      <td>15</td>\n",
       "      <td>225</td>\n",
       "      <td>D</td>\n",
       "    </tr>\n",
       "    <tr>\n",
       "      <th>16</th>\n",
       "      <td>16</td>\n",
       "      <td>256</td>\n",
       "      <td>E</td>\n",
       "    </tr>\n",
       "    <tr>\n",
       "      <th>17</th>\n",
       "      <td>17</td>\n",
       "      <td>289</td>\n",
       "      <td>E</td>\n",
       "    </tr>\n",
       "    <tr>\n",
       "      <th>18</th>\n",
       "      <td>18</td>\n",
       "      <td>324</td>\n",
       "      <td>E</td>\n",
       "    </tr>\n",
       "    <tr>\n",
       "      <th>19</th>\n",
       "      <td>19</td>\n",
       "      <td>361</td>\n",
       "      <td>E</td>\n",
       "    </tr>\n",
       "  </tbody>\n",
       "</table>\n",
       "</div>"
      ],
      "text/plain": [
       "    id  value type\n",
       "0    0      0    A\n",
       "1    1      1    A\n",
       "2    2      4    A\n",
       "3    3      9    A\n",
       "4    4     16    B\n",
       "5    5     25    B\n",
       "6    6     36    B\n",
       "7    7     49    B\n",
       "8    8     64    C\n",
       "9    9     81    C\n",
       "10  10    100    C\n",
       "11  11    121    C\n",
       "12  12    144    D\n",
       "13  13    169    D\n",
       "14  14    196    D\n",
       "15  15    225    D\n",
       "16  16    256    E\n",
       "17  17    289    E\n",
       "18  18    324    E\n",
       "19  19    361    E"
      ]
     },
     "execution_count": 5,
     "metadata": {},
     "output_type": "execute_result"
    }
   ],
   "source": [
    "df = pd.DataFrame(data={\n",
    "    'id'   : np.arange(0,20),\n",
    "    'value': np.arange(0,20) ** 2,\n",
    "    'type' : np.repeat([\"A\", \"B\", \"C\", \"D\", \"E\"], 4)}\n",
    ")\n",
    "df"
   ]
  },
  {
   "cell_type": "markdown",
   "id": "911e1c19-f4c1-4d95-aaeb-9cf752807013",
   "metadata": {},
   "source": [
    "We can reference any of the vectors that are stored in the data frame by `stringing` into that object using the `.` operator and then naming the vector that we're interested in. Note that by calling the stored data.frame object we're scoping from the global namespace into the namespace for that object, and then calling for the named vector. We *could* also pull this based on location -- though this brings on considerable risk: If the data structure should change in the future, you'll pull from a position that might have different information than you think it does. "
   ]
  },
  {
   "cell_type": "code",
   "execution_count": 6,
   "id": "fa5bc179-1f46-4852-9521-cda6f28aa6f9",
   "metadata": {},
   "outputs": [
    {
     "data": {
      "text/plain": [
       "pandas.core.series.Series"
      ]
     },
     "execution_count": 6,
     "metadata": {},
     "output_type": "execute_result"
    }
   ],
   "source": [
    "type(df)\n",
    "type(df.id)"
   ]
  },
  {
   "cell_type": "markdown",
   "id": "ca6a60e9-50e9-4b04-b47a-5d7263f2bb60",
   "metadata": {},
   "source": [
    "Because the vectors in this data.frame are all of the same length, we can pass logical tests to pull specific parts of the data, based on indexes of other data. \n",
    "\n",
    "Suppose that we wanted to pull all the type A objects: \n",
    "\n",
    "- Write the test that will return true for the type A,\n",
    "- Then use this test to pull the values that you're interested in. \n",
    "\n",
    "Folks might be use to referring to this as a boolean mask; if that's language you're comfortable with, *run with it*. Otherwise, you can just think of this as a logical test. "
   ]
  },
  {
   "cell_type": "code",
   "execution_count": 7,
   "id": "23d56de9-c2b8-4715-bf86-dfedb8aa9c0b",
   "metadata": {},
   "outputs": [
    {
     "data": {
      "text/plain": [
       "0    0\n",
       "1    1\n",
       "2    2\n",
       "3    3\n",
       "Name: id, dtype: int64"
      ]
     },
     "execution_count": 7,
     "metadata": {},
     "output_type": "execute_result"
    }
   ],
   "source": [
    "df.type == \"A\"\n",
    "df.id[df.type == \"A\"]"
   ]
  },
  {
   "cell_type": "markdown",
   "id": "d8c4d3f6-43b7-4559-b5cc-959c5680629c",
   "metadata": {},
   "source": [
    "Equivalently, we could write the last statement as: "
   ]
  },
  {
   "cell_type": "code",
   "execution_count": 8,
   "id": "cc919479-2d9b-43b3-9ff2-52753718c6f5",
   "metadata": {},
   "outputs": [
    {
     "data": {
      "text/plain": [
       "0    0\n",
       "1    1\n",
       "2    2\n",
       "3    3\n",
       "Name: id, dtype: int64"
      ]
     },
     "execution_count": 8,
     "metadata": {},
     "output_type": "execute_result"
    }
   ],
   "source": [
    "df[df.type == \"A\"][\"id\"]"
   ]
  },
  {
   "cell_type": "markdown",
   "id": "ee3c91e2-4092-4dc8-8e36-58cf4a796908",
   "metadata": {},
   "source": [
    "## Some light practice "
   ]
  },
  {
   "cell_type": "markdown",
   "id": "e0b86a6f-6d44-421b-93db-6168e8829fb6",
   "metadata": {},
   "source": [
    "- How would you write a call for the ids that fall between 1 and 10 (inclusive), pulling all of the columns? (The answers for each of these will follow in a short block)"
   ]
  },
  {
   "cell_type": "code",
   "execution_count": null,
   "id": "d20b378c-fd13-400a-afed-7fa55b73ddc7",
   "metadata": {},
   "outputs": [],
   "source": []
  },
  {
   "cell_type": "markdown",
   "id": "f8e9f6ec-280a-4d9e-bcad-8da71e205300",
   "metadata": {},
   "source": [
    "- How would you pull all of the odd ids? "
   ]
  },
  {
   "cell_type": "code",
   "execution_count": null,
   "id": "d196be64-1c47-460e-9f42-f8a3fdeed3f2",
   "metadata": {},
   "outputs": [],
   "source": []
  },
  {
   "cell_type": "markdown",
   "id": "5232079a-a135-4e45-ac4f-0036266d096e",
   "metadata": {},
   "source": [
    "- How would you pull all of the odd ids, that are of type indicated by a vowel? (Hint: You can combine the statements with the logical operator `&` )"
   ]
  },
  {
   "cell_type": "code",
   "execution_count": null,
   "id": "b500d2cb-73b8-408d-916a-48f7720d2c53",
   "metadata": {},
   "outputs": [],
   "source": []
  },
  {
   "cell_type": "markdown",
   "id": "9bd30164-c0bf-4e3d-a3f4-324e444d153c",
   "metadata": {},
   "source": [
    "- How would you pull the rows that *either* have an id that is in the set `1:2` **OR** have a type that is equal to `E`? (Hint: You can combine the statements with the logical operator `|` which reads as inclusive OR)"
   ]
  },
  {
   "cell_type": "code",
   "execution_count": null,
   "id": "0b3c2916-a8a7-474c-abfd-51b081d37f5c",
   "metadata": {},
   "outputs": [],
   "source": []
  },
  {
   "cell_type": "markdown",
   "id": "0841eb69-49b1-42d5-83b7-eda910ca0b5f",
   "metadata": {},
   "source": [
    "## Here come the answers: "
   ]
  },
  {
   "cell_type": "code",
   "execution_count": 9,
   "id": "e4f04491-f164-41d3-b8e6-0267f6967e69",
   "metadata": {},
   "outputs": [
    {
     "data": {
      "text/html": [
       "<div>\n",
       "<style scoped>\n",
       "    .dataframe tbody tr th:only-of-type {\n",
       "        vertical-align: middle;\n",
       "    }\n",
       "\n",
       "    .dataframe tbody tr th {\n",
       "        vertical-align: top;\n",
       "    }\n",
       "\n",
       "    .dataframe thead th {\n",
       "        text-align: right;\n",
       "    }\n",
       "</style>\n",
       "<table border=\"1\" class=\"dataframe\">\n",
       "  <thead>\n",
       "    <tr style=\"text-align: right;\">\n",
       "      <th></th>\n",
       "      <th>id</th>\n",
       "      <th>value</th>\n",
       "      <th>type</th>\n",
       "    </tr>\n",
       "  </thead>\n",
       "  <tbody>\n",
       "    <tr>\n",
       "      <th>1</th>\n",
       "      <td>1</td>\n",
       "      <td>1</td>\n",
       "      <td>A</td>\n",
       "    </tr>\n",
       "    <tr>\n",
       "      <th>2</th>\n",
       "      <td>2</td>\n",
       "      <td>4</td>\n",
       "      <td>A</td>\n",
       "    </tr>\n",
       "    <tr>\n",
       "      <th>3</th>\n",
       "      <td>3</td>\n",
       "      <td>9</td>\n",
       "      <td>A</td>\n",
       "    </tr>\n",
       "    <tr>\n",
       "      <th>4</th>\n",
       "      <td>4</td>\n",
       "      <td>16</td>\n",
       "      <td>B</td>\n",
       "    </tr>\n",
       "    <tr>\n",
       "      <th>5</th>\n",
       "      <td>5</td>\n",
       "      <td>25</td>\n",
       "      <td>B</td>\n",
       "    </tr>\n",
       "    <tr>\n",
       "      <th>6</th>\n",
       "      <td>6</td>\n",
       "      <td>36</td>\n",
       "      <td>B</td>\n",
       "    </tr>\n",
       "    <tr>\n",
       "      <th>7</th>\n",
       "      <td>7</td>\n",
       "      <td>49</td>\n",
       "      <td>B</td>\n",
       "    </tr>\n",
       "    <tr>\n",
       "      <th>8</th>\n",
       "      <td>8</td>\n",
       "      <td>64</td>\n",
       "      <td>C</td>\n",
       "    </tr>\n",
       "    <tr>\n",
       "      <th>9</th>\n",
       "      <td>9</td>\n",
       "      <td>81</td>\n",
       "      <td>C</td>\n",
       "    </tr>\n",
       "    <tr>\n",
       "      <th>10</th>\n",
       "      <td>10</td>\n",
       "      <td>100</td>\n",
       "      <td>C</td>\n",
       "    </tr>\n",
       "  </tbody>\n",
       "</table>\n",
       "</div>"
      ],
      "text/plain": [
       "    id  value type\n",
       "1    1      1    A\n",
       "2    2      4    A\n",
       "3    3      9    A\n",
       "4    4     16    B\n",
       "5    5     25    B\n",
       "6    6     36    B\n",
       "7    7     49    B\n",
       "8    8     64    C\n",
       "9    9     81    C\n",
       "10  10    100    C"
      ]
     },
     "execution_count": 9,
     "metadata": {},
     "output_type": "execute_result"
    }
   ],
   "source": [
    "# Between 1-10 (inclusive)\n",
    "df[1:11] # cheater... got lucky because they're ordered; this is risky to positionally index. "
   ]
  },
  {
   "cell_type": "code",
   "execution_count": 10,
   "id": "5d64067b-f33c-43e2-b4cf-e6f57e814fdb",
   "metadata": {},
   "outputs": [
    {
     "data": {
      "text/html": [
       "<div>\n",
       "<style scoped>\n",
       "    .dataframe tbody tr th:only-of-type {\n",
       "        vertical-align: middle;\n",
       "    }\n",
       "\n",
       "    .dataframe tbody tr th {\n",
       "        vertical-align: top;\n",
       "    }\n",
       "\n",
       "    .dataframe thead th {\n",
       "        text-align: right;\n",
       "    }\n",
       "</style>\n",
       "<table border=\"1\" class=\"dataframe\">\n",
       "  <thead>\n",
       "    <tr style=\"text-align: right;\">\n",
       "      <th></th>\n",
       "      <th>id</th>\n",
       "      <th>value</th>\n",
       "      <th>type</th>\n",
       "    </tr>\n",
       "  </thead>\n",
       "  <tbody>\n",
       "    <tr>\n",
       "      <th>1</th>\n",
       "      <td>1</td>\n",
       "      <td>1</td>\n",
       "      <td>A</td>\n",
       "    </tr>\n",
       "    <tr>\n",
       "      <th>2</th>\n",
       "      <td>2</td>\n",
       "      <td>4</td>\n",
       "      <td>A</td>\n",
       "    </tr>\n",
       "    <tr>\n",
       "      <th>3</th>\n",
       "      <td>3</td>\n",
       "      <td>9</td>\n",
       "      <td>A</td>\n",
       "    </tr>\n",
       "    <tr>\n",
       "      <th>4</th>\n",
       "      <td>4</td>\n",
       "      <td>16</td>\n",
       "      <td>B</td>\n",
       "    </tr>\n",
       "    <tr>\n",
       "      <th>5</th>\n",
       "      <td>5</td>\n",
       "      <td>25</td>\n",
       "      <td>B</td>\n",
       "    </tr>\n",
       "    <tr>\n",
       "      <th>6</th>\n",
       "      <td>6</td>\n",
       "      <td>36</td>\n",
       "      <td>B</td>\n",
       "    </tr>\n",
       "    <tr>\n",
       "      <th>7</th>\n",
       "      <td>7</td>\n",
       "      <td>49</td>\n",
       "      <td>B</td>\n",
       "    </tr>\n",
       "    <tr>\n",
       "      <th>8</th>\n",
       "      <td>8</td>\n",
       "      <td>64</td>\n",
       "      <td>C</td>\n",
       "    </tr>\n",
       "    <tr>\n",
       "      <th>9</th>\n",
       "      <td>9</td>\n",
       "      <td>81</td>\n",
       "      <td>C</td>\n",
       "    </tr>\n",
       "    <tr>\n",
       "      <th>10</th>\n",
       "      <td>10</td>\n",
       "      <td>100</td>\n",
       "      <td>C</td>\n",
       "    </tr>\n",
       "  </tbody>\n",
       "</table>\n",
       "</div>"
      ],
      "text/plain": [
       "    id  value type\n",
       "1    1      1    A\n",
       "2    2      4    A\n",
       "3    3      9    A\n",
       "4    4     16    B\n",
       "5    5     25    B\n",
       "6    6     36    B\n",
       "7    7     49    B\n",
       "8    8     64    C\n",
       "9    9     81    C\n",
       "10  10    100    C"
      ]
     },
     "execution_count": 10,
     "metadata": {},
     "output_type": "execute_result"
    }
   ],
   "source": [
    "# Between 1-10 (inclusive) (better)\n",
    "df[(df.id > 0) & (df.id <11)]"
   ]
  },
  {
   "cell_type": "code",
   "execution_count": 11,
   "id": "2de4617a-f6e3-47ca-a03e-b97a0ad09aca",
   "metadata": {},
   "outputs": [
    {
     "data": {
      "text/html": [
       "<div>\n",
       "<style scoped>\n",
       "    .dataframe tbody tr th:only-of-type {\n",
       "        vertical-align: middle;\n",
       "    }\n",
       "\n",
       "    .dataframe tbody tr th {\n",
       "        vertical-align: top;\n",
       "    }\n",
       "\n",
       "    .dataframe thead th {\n",
       "        text-align: right;\n",
       "    }\n",
       "</style>\n",
       "<table border=\"1\" class=\"dataframe\">\n",
       "  <thead>\n",
       "    <tr style=\"text-align: right;\">\n",
       "      <th></th>\n",
       "      <th>id</th>\n",
       "      <th>value</th>\n",
       "      <th>type</th>\n",
       "    </tr>\n",
       "  </thead>\n",
       "  <tbody>\n",
       "    <tr>\n",
       "      <th>1</th>\n",
       "      <td>1</td>\n",
       "      <td>1</td>\n",
       "      <td>A</td>\n",
       "    </tr>\n",
       "    <tr>\n",
       "      <th>3</th>\n",
       "      <td>3</td>\n",
       "      <td>9</td>\n",
       "      <td>A</td>\n",
       "    </tr>\n",
       "    <tr>\n",
       "      <th>5</th>\n",
       "      <td>5</td>\n",
       "      <td>25</td>\n",
       "      <td>B</td>\n",
       "    </tr>\n",
       "    <tr>\n",
       "      <th>7</th>\n",
       "      <td>7</td>\n",
       "      <td>49</td>\n",
       "      <td>B</td>\n",
       "    </tr>\n",
       "    <tr>\n",
       "      <th>9</th>\n",
       "      <td>9</td>\n",
       "      <td>81</td>\n",
       "      <td>C</td>\n",
       "    </tr>\n",
       "    <tr>\n",
       "      <th>11</th>\n",
       "      <td>11</td>\n",
       "      <td>121</td>\n",
       "      <td>C</td>\n",
       "    </tr>\n",
       "    <tr>\n",
       "      <th>13</th>\n",
       "      <td>13</td>\n",
       "      <td>169</td>\n",
       "      <td>D</td>\n",
       "    </tr>\n",
       "    <tr>\n",
       "      <th>15</th>\n",
       "      <td>15</td>\n",
       "      <td>225</td>\n",
       "      <td>D</td>\n",
       "    </tr>\n",
       "    <tr>\n",
       "      <th>17</th>\n",
       "      <td>17</td>\n",
       "      <td>289</td>\n",
       "      <td>E</td>\n",
       "    </tr>\n",
       "    <tr>\n",
       "      <th>19</th>\n",
       "      <td>19</td>\n",
       "      <td>361</td>\n",
       "      <td>E</td>\n",
       "    </tr>\n",
       "  </tbody>\n",
       "</table>\n",
       "</div>"
      ],
      "text/plain": [
       "    id  value type\n",
       "1    1      1    A\n",
       "3    3      9    A\n",
       "5    5     25    B\n",
       "7    7     49    B\n",
       "9    9     81    C\n",
       "11  11    121    C\n",
       "13  13    169    D\n",
       "15  15    225    D\n",
       "17  17    289    E\n",
       "19  19    361    E"
      ]
     },
     "execution_count": 11,
     "metadata": {},
     "output_type": "execute_result"
    }
   ],
   "source": [
    "# Odd IDs\n",
    "df[df.id % 2 == 1]"
   ]
  },
  {
   "cell_type": "code",
   "execution_count": 12,
   "id": "01f1d71c-5762-49e2-bc71-4ed428c5608a",
   "metadata": {},
   "outputs": [
    {
     "data": {
      "text/html": [
       "<div>\n",
       "<style scoped>\n",
       "    .dataframe tbody tr th:only-of-type {\n",
       "        vertical-align: middle;\n",
       "    }\n",
       "\n",
       "    .dataframe tbody tr th {\n",
       "        vertical-align: top;\n",
       "    }\n",
       "\n",
       "    .dataframe thead th {\n",
       "        text-align: right;\n",
       "    }\n",
       "</style>\n",
       "<table border=\"1\" class=\"dataframe\">\n",
       "  <thead>\n",
       "    <tr style=\"text-align: right;\">\n",
       "      <th></th>\n",
       "      <th>id</th>\n",
       "      <th>value</th>\n",
       "      <th>type</th>\n",
       "    </tr>\n",
       "  </thead>\n",
       "  <tbody>\n",
       "    <tr>\n",
       "      <th>17</th>\n",
       "      <td>17</td>\n",
       "      <td>289</td>\n",
       "      <td>E</td>\n",
       "    </tr>\n",
       "    <tr>\n",
       "      <th>19</th>\n",
       "      <td>19</td>\n",
       "      <td>361</td>\n",
       "      <td>E</td>\n",
       "    </tr>\n",
       "  </tbody>\n",
       "</table>\n",
       "</div>"
      ],
      "text/plain": [
       "    id  value type\n",
       "17  17    289    E\n",
       "19  19    361    E"
      ]
     },
     "execution_count": 12,
     "metadata": {},
     "output_type": "execute_result"
    }
   ],
   "source": [
    "# Odd IDs and Vowels \n",
    "df[(df.id % 2 == 1) & (df.type == \"E\")]"
   ]
  },
  {
   "cell_type": "code",
   "execution_count": 13,
   "id": "41f1b438-d19d-4755-8ea5-a63d98143ae6",
   "metadata": {},
   "outputs": [
    {
     "data": {
      "text/html": [
       "<div>\n",
       "<style scoped>\n",
       "    .dataframe tbody tr th:only-of-type {\n",
       "        vertical-align: middle;\n",
       "    }\n",
       "\n",
       "    .dataframe tbody tr th {\n",
       "        vertical-align: top;\n",
       "    }\n",
       "\n",
       "    .dataframe thead th {\n",
       "        text-align: right;\n",
       "    }\n",
       "</style>\n",
       "<table border=\"1\" class=\"dataframe\">\n",
       "  <thead>\n",
       "    <tr style=\"text-align: right;\">\n",
       "      <th></th>\n",
       "      <th>id</th>\n",
       "      <th>value</th>\n",
       "      <th>type</th>\n",
       "    </tr>\n",
       "  </thead>\n",
       "  <tbody>\n",
       "    <tr>\n",
       "      <th>1</th>\n",
       "      <td>1</td>\n",
       "      <td>1</td>\n",
       "      <td>A</td>\n",
       "    </tr>\n",
       "    <tr>\n",
       "      <th>2</th>\n",
       "      <td>2</td>\n",
       "      <td>4</td>\n",
       "      <td>A</td>\n",
       "    </tr>\n",
       "    <tr>\n",
       "      <th>16</th>\n",
       "      <td>16</td>\n",
       "      <td>256</td>\n",
       "      <td>E</td>\n",
       "    </tr>\n",
       "    <tr>\n",
       "      <th>17</th>\n",
       "      <td>17</td>\n",
       "      <td>289</td>\n",
       "      <td>E</td>\n",
       "    </tr>\n",
       "    <tr>\n",
       "      <th>18</th>\n",
       "      <td>18</td>\n",
       "      <td>324</td>\n",
       "      <td>E</td>\n",
       "    </tr>\n",
       "    <tr>\n",
       "      <th>19</th>\n",
       "      <td>19</td>\n",
       "      <td>361</td>\n",
       "      <td>E</td>\n",
       "    </tr>\n",
       "  </tbody>\n",
       "</table>\n",
       "</div>"
      ],
      "text/plain": [
       "    id  value type\n",
       "1    1      1    A\n",
       "2    2      4    A\n",
       "16  16    256    E\n",
       "17  17    289    E\n",
       "18  18    324    E\n",
       "19  19    361    E"
      ]
     },
     "execution_count": 13,
     "metadata": {},
     "output_type": "execute_result"
    }
   ],
   "source": [
    "# Either id is 1, or 2, or it is an \"E\"\n",
    "df[(np.isin(df.id, [1,2])) | (df.type == \"E\")]"
   ]
  },
  {
   "cell_type": "markdown",
   "id": "e7624b32-70d7-44b9-9da4-cc7b41286cff",
   "metadata": {},
   "source": [
    "# Formula Notation \n",
    "The formula tilde: `~` is a common thread through R. Most base functions that involve the comparison of some feature by some other feature have a built in method that is based on the formula tilde. This is not, generally, the case in python, although there are some places in the statsmoels.formulas api that it will work for you. \n",
    "\n",
    "For example, in the data.frame `df` from above, if we wanted to compare the values for ids greater than 10 to those ten and below, we might use the following call:"
   ]
  },
  {
   "cell_type": "code",
   "execution_count": 14,
   "id": "595807b2-7189-47e3-8638-0aa9aa2b355f",
   "metadata": {},
   "outputs": [
    {
     "data": {
      "text/plain": [
       "TtestResult(statistic=-6.490655059715688, pvalue=4.191592122120867e-06, df=18.0)"
      ]
     },
     "execution_count": 14,
     "metadata": {},
     "output_type": "execute_result"
    }
   ],
   "source": [
    "# t.test(value ~ id > 10, data = df)\n",
    "ttest_ind(a=df.value[df.id < 10], b=df.value[df.id >= 10])"
   ]
  },
  {
   "cell_type": "markdown",
   "id": "2a78f807-c1a9-4c07-857c-4dbbbdb98ce6",
   "metadata": {},
   "source": [
    "Suppose we wanted a box plot:"
   ]
  },
  {
   "cell_type": "code",
   "execution_count": 15,
   "id": "61a480be-e153-4fe5-8f9e-26a84b9fa010",
   "metadata": {},
   "outputs": [
    {
     "data": {
      "text/plain": [
       "<Axes: xlabel='id', ylabel='value'>"
      ]
     },
     "execution_count": 15,
     "metadata": {},
     "output_type": "execute_result"
    },
    {
     "data": {
      "image/png": "[encoded data removed]",
      "text/plain": [
       "<Figure size 640x480 with 1 Axes>"
      ]
     },
     "metadata": {},
     "output_type": "display_data"
    }
   ],
   "source": [
    "sns.boxplot(\n",
    "    x = (df.id < 10), \n",
    "    y = df.value\n",
    ")"
   ]
  },
  {
   "cell_type": "markdown",
   "id": "a4479e05-f6ac-4e3f-8d3f-1763c2d970ff",
   "metadata": {},
   "source": [
    "Or, a linear regression"
   ]
  },
  {
   "cell_type": "code",
   "execution_count": 16,
   "id": "4bb0fb65-5efc-49a2-88a7-c6951cefbec5",
   "metadata": {},
   "outputs": [
    {
     "data": {
      "text/html": [
       "<table class=\"simpletable\">\n",
       "<caption>OLS Regression Results</caption>\n",
       "<tr>\n",
       "  <th>Dep. Variable:</th>          <td>value</td>      <th>  R-squared:         </th> <td>   0.767</td>\n",
       "</tr>\n",
       "<tr>\n",
       "  <th>Model:</th>                   <td>OLS</td>       <th>  Adj. R-squared:    </th> <td>   0.740</td>\n",
       "</tr>\n",
       "<tr>\n",
       "  <th>Method:</th>             <td>Least Squares</td>  <th>  F-statistic:       </th> <td>   28.04</td>\n",
       "</tr>\n",
       "<tr>\n",
       "  <th>Date:</th>             <td>Thu, 11 Jan 2024</td> <th>  Prob (F-statistic):</th> <td>4.14e-06</td>\n",
       "</tr>\n",
       "<tr>\n",
       "  <th>Time:</th>                 <td>00:01:07</td>     <th>  Log-Likelihood:    </th> <td> -108.43</td>\n",
       "</tr>\n",
       "<tr>\n",
       "  <th>No. Observations:</th>      <td>    20</td>      <th>  AIC:               </th> <td>   222.9</td>\n",
       "</tr>\n",
       "<tr>\n",
       "  <th>Df Residuals:</th>          <td>    17</td>      <th>  BIC:               </th> <td>   225.8</td>\n",
       "</tr>\n",
       "<tr>\n",
       "  <th>Df Model:</th>              <td>     2</td>      <th>                     </th>     <td> </td>   \n",
       "</tr>\n",
       "<tr>\n",
       "  <th>Covariance Type:</th>      <td>nonrobust</td>    <th>                     </th>     <td> </td>   \n",
       "</tr>\n",
       "</table>\n",
       "<table class=\"simpletable\">\n",
       "<tr>\n",
       "           <td></td>              <th>coef</th>     <th>std err</th>      <th>t</th>      <th>P>|t|</th>  <th>[0.025</th>    <th>0.975]</th>  \n",
       "</tr>\n",
       "<tr>\n",
       "  <th>Intercept</th>           <td>   53.0000</td> <td>   22.441</td> <td>    2.362</td> <td> 0.030</td> <td>    5.653</td> <td>  100.347</td>\n",
       "</tr>\n",
       "<tr>\n",
       "  <th>id > 10[T.True]</th>     <td>  178.6667</td> <td>   29.922</td> <td>    5.971</td> <td> 0.000</td> <td>  115.538</td> <td>  241.796</td>\n",
       "</tr>\n",
       "<tr>\n",
       "  <th>type == \"A\"[T.True]</th> <td>  -49.5000</td> <td>   37.214</td> <td>   -1.330</td> <td> 0.201</td> <td> -128.016</td> <td>   29.016</td>\n",
       "</tr>\n",
       "</table>\n",
       "<table class=\"simpletable\">\n",
       "<tr>\n",
       "  <th>Omnibus:</th>       <td> 1.298</td> <th>  Durbin-Watson:     </th> <td>   0.589</td>\n",
       "</tr>\n",
       "<tr>\n",
       "  <th>Prob(Omnibus):</th> <td> 0.522</td> <th>  Jarque-Bera (JB):  </th> <td>   0.331</td>\n",
       "</tr>\n",
       "<tr>\n",
       "  <th>Skew:</th>          <td> 0.269</td> <th>  Prob(JB):          </th> <td>   0.847</td>\n",
       "</tr>\n",
       "<tr>\n",
       "  <th>Kurtosis:</th>      <td> 3.329</td> <th>  Cond. No.          </th> <td>    3.83</td>\n",
       "</tr>\n",
       "</table><br/><br/>Notes:<br/>[1] Standard Errors assume that the covariance matrix of the errors is correctly specified."
      ],
      "text/latex": [
       "\\begin{center}\n",
       "\\begin{tabular}{lclc}\n",
       "\\toprule\n",
       "\\textbf{Dep. Variable:}      &      value       & \\textbf{  R-squared:         } &     0.767   \\\\\n",
       "\\textbf{Model:}              &       OLS        & \\textbf{  Adj. R-squared:    } &     0.740   \\\\\n",
       "\\textbf{Method:}             &  Least Squares   & \\textbf{  F-statistic:       } &     28.04   \\\\\n",
       "\\textbf{Date:}               & Thu, 11 Jan 2024 & \\textbf{  Prob (F-statistic):} &  4.14e-06   \\\\\n",
       "\\textbf{Time:}               &     00:01:07     & \\textbf{  Log-Likelihood:    } &   -108.43   \\\\\n",
       "\\textbf{No. Observations:}   &          20      & \\textbf{  AIC:               } &     222.9   \\\\\n",
       "\\textbf{Df Residuals:}       &          17      & \\textbf{  BIC:               } &     225.8   \\\\\n",
       "\\textbf{Df Model:}           &           2      & \\textbf{                     } &             \\\\\n",
       "\\textbf{Covariance Type:}    &    nonrobust     & \\textbf{                     } &             \\\\\n",
       "\\bottomrule\n",
       "\\end{tabular}\n",
       "\\begin{tabular}{lcccccc}\n",
       "                             & \\textbf{coef} & \\textbf{std err} & \\textbf{t} & \\textbf{P$> |$t$|$} & \\textbf{[0.025} & \\textbf{0.975]}  \\\\\n",
       "\\midrule\n",
       "\\textbf{Intercept}           &      53.0000  &       22.441     &     2.362  &         0.030        &        5.653    &      100.347     \\\\\n",
       "\\textbf{id $>$ 10[T.True]}   &     178.6667  &       29.922     &     5.971  &         0.000        &      115.538    &      241.796     \\\\\n",
       "\\textbf{type == \"A\"[T.True]} &     -49.5000  &       37.214     &    -1.330  &         0.201        &     -128.016    &       29.016     \\\\\n",
       "\\bottomrule\n",
       "\\end{tabular}\n",
       "\\begin{tabular}{lclc}\n",
       "\\textbf{Omnibus:}       &  1.298 & \\textbf{  Durbin-Watson:     } &    0.589  \\\\\n",
       "\\textbf{Prob(Omnibus):} &  0.522 & \\textbf{  Jarque-Bera (JB):  } &    0.331  \\\\\n",
       "\\textbf{Skew:}          &  0.269 & \\textbf{  Prob(JB):          } &    0.847  \\\\\n",
       "\\textbf{Kurtosis:}      &  3.329 & \\textbf{  Cond. No.          } &     3.83  \\\\\n",
       "\\bottomrule\n",
       "\\end{tabular}\n",
       "%\\caption{OLS Regression Results}\n",
       "\\end{center}\n",
       "\n",
       "Notes: \\newline\n",
       " [1] Standard Errors assume that the covariance matrix of the errors is correctly specified."
      ],
      "text/plain": [
       "<class 'statsmodels.iolib.summary.Summary'>\n",
       "\"\"\"\n",
       "                            OLS Regression Results                            \n",
       "==============================================================================\n",
       "Dep. Variable:                  value   R-squared:                       0.767\n",
       "Model:                            OLS   Adj. R-squared:                  0.740\n",
       "Method:                 Least Squares   F-statistic:                     28.04\n",
       "Date:                Thu, 11 Jan 2024   Prob (F-statistic):           4.14e-06\n",
       "Time:                        00:01:07   Log-Likelihood:                -108.43\n",
       "No. Observations:                  20   AIC:                             222.9\n",
       "Df Residuals:                      17   BIC:                             225.8\n",
       "Df Model:                           2                                         \n",
       "Covariance Type:            nonrobust                                         \n",
       "=======================================================================================\n",
       "                          coef    std err          t      P>|t|      [0.025      0.975]\n",
       "---------------------------------------------------------------------------------------\n",
       "Intercept              53.0000     22.441      2.362      0.030       5.653     100.347\n",
       "id > 10[T.True]       178.6667     29.922      5.971      0.000     115.538     241.796\n",
       "type == \"A\"[T.True]   -49.5000     37.214     -1.330      0.201    -128.016      29.016\n",
       "==============================================================================\n",
       "Omnibus:                        1.298   Durbin-Watson:                   0.589\n",
       "Prob(Omnibus):                  0.522   Jarque-Bera (JB):                0.331\n",
       "Skew:                           0.269   Prob(JB):                        0.847\n",
       "Kurtosis:                       3.329   Cond. No.                         3.83\n",
       "==============================================================================\n",
       "\n",
       "Notes:\n",
       "[1] Standard Errors assume that the covariance matrix of the errors is correctly specified.\n",
       "\"\"\""
      ]
     },
     "execution_count": 16,
     "metadata": {},
     "output_type": "execute_result"
    }
   ],
   "source": [
    "mod = smf.ols('value ~ id > 10 + type == \"A\"', data = df).fit()\n",
    "mod.summary()"
   ]
  },
  {
   "cell_type": "markdown",
   "id": "752ae0ba-fb0a-425b-b864-dc498918c68f",
   "metadata": {},
   "source": [
    "Let's unpack this just a little bit. Inside each of these calls are at least three parts:\n",
    "1. the LHS of the tilde, which is the outcome variable;\n",
    "2. the RHS (which we're inputting as a logical test that is being evaluated at run time\n",
    "3. the data that we're using.\n",
    "4. oh, there are four: the tilde.\n",
    "\n",
    "An equivalent way of each of these calls would be to use the vectors -- which might feel more similar to how you pull vectors and arrays in `scikit`. But, the ability to pull in whole data, and use the `~` as a splitting or modeling feature is a key component of the R language. "
   ]
  },
  {
   "cell_type": "markdown",
   "id": "89e84630-903e-43e8-98f9-9d432d3a6c74",
   "metadata": {},
   "source": [
    "# Head Home\n",
    "\n",
    "Feel free to save the files that you've just edited, and then to close the *editor tab* that you've got open called `base_r.Rmd`. This way, you're organized for the next time you're here. "
   ]
  },
  {
   "cell_type": "code",
   "execution_count": null,
   "id": "16c01089-8a87-463d-bf2d-ca5d81198a26",
   "metadata": {},
   "outputs": [],
   "source": []
  }
 ],
 "metadata": {
  "kernelspec": {
   "display_name": "Python 3 (ipykernel)",
   "language": "python",
   "name": "python3"
  },
  "language_info": {
   "codemirror_mode": {
    "name": "ipython",
    "version": 3
   },
   "file_extension": ".py",
   "mimetype": "text/x-python",
   "name": "python",
   "nbconvert_exporter": "python",
   "pygments_lexer": "ipython3",
   "version": "3.10.10"
  }
 },
 "nbformat": 4,
 "nbformat_minor": 5
}
